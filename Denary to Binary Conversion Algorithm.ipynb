{

 "metadata": {

  "name": "convert denary to Binary "

 },

 "nbformat": 3,

 "nbformat_minor": 0,

 "worksheets": [

  {

   "cells": [

    {

     "cell_type": "code",

     "collapsed": false,

     "input": [

      """denary= int(input("Enter a number between 0 and 255"))

binary = ""

if denary>=128:

    binary = binary + "1"

    denary = denary - 128

else:

    binary = binary + "0"

if denary>=64:

    binary = binary + "1"

    denary = denary - 64

else:

    binary = binary + "0"

if denary>=64:

    binary = binary + "1"

    denary = denary - 64

else:

    binary = binary + "0"

if denary>=32:

    binary = binary + "1"

    denary = denary - 32

else:

    binary = binary + "0"

if denary>=16:

    binary = binary + "1"

    denary = denary - 16

else:

    binary = binary + "0"

if denary>=8:

    binary = binary + "1"

    denary = denary - 8

else:

    binary = binary + "0"

if denary>=4:

    binary = binary + "1"

    denary = denary - 4

else:

    binary = binary + "0"

if denary>=2:

    binary = binary + "1"

    denary = denary - 2

else:

    binary = binary + "0"

if denary>=1:

    binary = binary + "1"

    denary = denary - 1

else:

    binary = binary + "0"

print(binary)

"""

     ],

     "language": "python",

     "metadata": {},

     "outputs": [],

     "prompt_number": 8

    },

    {

     "cell_type": "code",

     "collapsed": false,

     "input": [

      "replicate = 5\n",

      "\n",

      "with open(\"output_data\" + str(replicate) + \".csv\", \"w\") as out_file:\n",

      "    for i in range(len(fitness_list)):\n",

      "        out_string = \"\"\n",

      "        out_string += str(fitness_list[i])\n",

      "        out_string += \",\" + str(trait1_list[i])\n",

      "        out_string += \",\" + str(trait2_list[i])\n",

      "        out_string += \"\\n\"\n",

      "        out_file.write(out_string)"

     ],

     "language": "python",

     "metadata": {},

     "outputs": [],

     "prompt_number": 21

    },

    {

     "cell_type": "code",

     "collapsed": false,

     "input": [

      "!ls output_*"

     ],

     "language": "python",

     "metadata": {},

     "outputs": [

      {

       "output_type": "stream",

       "stream": "stdout",

       "text": [

        "output_data.csv  output_data5.csv\r\n"

       ]

      }

     ],

     "prompt_number": 22

    },

    {

     "cell_type": "code",

     "collapsed": false,

     "input": [],

     "language": "python",

     "metadata": {},

     "outputs": []

    }

   ],

   "metadata": {}

  }

 ]

}




