{

 "metadata": {

  "name": "convert denary to Binary "

 },

 "nbformat": 3,

 "nbformat_minor": 0,

 "worksheets": [

  {

   "cells": [

    {

     "cell_type": "code",

     "collapsed": false,

     "input": [

      "from numpy import arange\n",

      "\n",

      "fitness_list = arange(1, 50, 2)\n",

      "trait1_list = arange(0, 250, 10)\n",

      "trait2_list = arange(150, 0, -6)"

     ],

     "language": "python",

     "metadata": {},

     "outputs": [],

     "prompt_number": 8

    },

    {

     "cell_type": "code",

     "collapsed": false,

     "input": [

      "replicate = 5\n",

      "\n",

      "with open(\"output_data\" + str(replicate) + \".csv\", \"w\") as out_file:\n",

      "    for i in range(len(fitness_list)):\n",

      "        out_string = \"\"\n",

      "        out_string += str(fitness_list[i])\n",

      "        out_string += \",\" + str(trait1_list[i])\n",

      "        out_string += \",\" + str(trait2_list[i])\n",

      "        out_string += \"\\n\"\n",

      "        out_file.write(out_string)"

     ],

     "language": "python",

     "metadata": {},

     "outputs": [],

     "prompt_number": 21

    },

    {

     "cell_type": "code",

     "collapsed": false,

     "input": [

      "!ls output_*"

     ],

     "language": "python",

     "metadata": {},

     "outputs": [

      {

       "output_type": "stream",

       "stream": "stdout",

       "text": [

        "output_data.csv  output_data5.csv\r\n"

       ]

      }

     ],

     "prompt_number": 22

    },

    {

     "cell_type": "code",

     "collapsed": false,

     "input": [],

     "language": "python",

     "metadata": {},

     "outputs": []

    }

   ],

   "metadata": {}

  }

 ]

}




